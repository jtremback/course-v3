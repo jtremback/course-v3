{
 "cells": [
  {
   "cell_type": "code",
   "execution_count": 1,
   "metadata": {},
   "outputs": [
    {
     "name": "stderr",
     "output_type": "stream",
     "text": [
      "/usr/local/lib/python3.6/site-packages/IPython/core/interactiveshell.py:3242: DtypeWarning: Columns (3,5,6,7,10,12,13,15,17,19,20,21) have mixed types. Specify dtype option on import or set low_memory=False.\n",
      "  if (await self.run_code(code, result,  async_=asy)):\n"
     ]
    }
   ],
   "source": [
    "from fastai.vision import *\n",
    "import time \n",
    "\n",
    "def read_file():\n",
    "    path = Path('../../')\n",
    "    csv = path/\"label_list.csv\"\n",
    "    art = pd.read_csv(csv, sep=\"\\t\")\n",
    "    \n",
    "    return art, path\n",
    "\n",
    "art, path = read_file()"
   ]
  },
  {
   "cell_type": "code",
   "execution_count": 2,
   "metadata": {},
   "outputs": [
    {
     "name": "stdout",
     "output_type": "stream",
     "text": [
      "Style\n",
      "Abstract Art                    1000\n",
      "Abstract Expressionism          1000\n",
      "Academicism                     1000\n",
      "Art Deco                         880\n",
      "Art Informel                    1000\n",
      "Art Nouveau (Modern)            1000\n",
      "Baroque                         1000\n",
      "Color Field Painting            1000\n",
      "Conceptual Art                   984\n",
      "Concretism                       733\n",
      "Contemporary Realism             862\n",
      "Cubism                          1000\n",
      "Early Renaissance               1000\n",
      "Expressionism                   1000\n",
      "Fauvism                          667\n",
      "Hard Edge Painting               534\n",
      "High Renaissance                1000\n",
      "Impressionism                   1000\n",
      "Ink and wash painting            514\n",
      "Lyrical Abstraction              807\n",
      "Magic Realism                   1000\n",
      "Mannerism (Late Renaissance)    1000\n",
      "Minimalism                      1000\n",
      "Naïve Art (Primitivism)         1000\n",
      "Neo-Expressionism                753\n",
      "Neo-Romanticism                  584\n",
      "Neoclassicism                   1000\n",
      "Northern Renaissance            1000\n",
      "Op Art                           965\n",
      "Pointillism                      521\n",
      "Pop Art                         1000\n",
      "Post-Impressionism              1000\n",
      "Realism                         1000\n",
      "Rococo                          1000\n",
      "Romanticism                     1000\n",
      "Surrealism                      1000\n",
      "Symbolism                       1000\n",
      "Tachisme                         550\n",
      "Ukiyo-e                         1000\n",
      "Name: Style, dtype: int64\n"
     ]
    },
    {
     "data": {
      "text/plain": [
       "703568    https://uploads6.wikiart.org/images/gianni-pia...\n",
       "686790    https://uploads7.wikiart.org/images/diego-vela...\n",
       "651365    https://uploads8.wikiart.org/images/claude-mon...\n",
       "708578    https://uploads4.wikiart.org/images/claude-via...\n",
       "729602    https://uploads3.wikiart.org/images/balthus/la...\n",
       "                                ...                        \n",
       "703516    https://uploads5.wikiart.org/images/antonio-pa...\n",
       "726305    https://uploads6.wikiart.org/images/emil-schum...\n",
       "716461    https://uploads8.wikiart.org/images/ludwig-wil...\n",
       "741735    https://uploads2.wikiart.org/images/erte/lucre...\n",
       "739517    https://uploads0.wikiart.org/images/marcelle-c...\n",
       "Name: image_url, Length: 35354, dtype: object"
      ]
     },
     "execution_count": 2,
     "metadata": {},
     "output_type": "execute_result"
    }
   ],
   "source": [
    "def filter_art():\n",
    "    filtered = art.groupby(\"Style\").filter(lambda x: x['Style'].count() > 500)\n",
    "    filtered = filtered.sample(frac=1, random_state=42).groupby(\"Style\").head(1000)\n",
    "    filtered = filtered[filtered[\"Style\"] != \"Arita ware\"]\n",
    "    filtered = filtered[filtered[\"Style\"] != \"Sawankhalok ware\"]\n",
    "    return filtered\n",
    "\n",
    "filtered = filter_art()\n",
    "print(filtered.groupby(\"Style\")['Style'].count())\n",
    "filtered[\"image_url\"]"
   ]
  },
  {
   "cell_type": "code",
   "execution_count": 11,
   "metadata": {},
   "outputs": [
    {
     "data": {
      "text/plain": [
       "35354"
      ]
     },
     "metadata": {},
     "output_type": "display_data"
    },
    {
     "name": "stdout",
     "output_type": "stream",
     "text": [
      "of\n"
     ]
    },
    {
     "data": {
      "text/plain": [
       "35354"
      ]
     },
     "metadata": {},
     "output_type": "display_data"
    },
    {
     "name": "stderr",
     "output_type": "stream",
     "text": [
      "IOPub message rate exceeded.\n",
      "The notebook server will temporarily stop sending output\n",
      "to the client in order to avoid crashing it.\n",
      "To change this limit, set the config variable\n",
      "`--NotebookApp.iopub_msg_rate_limit`.\n",
      "\n",
      "Current values:\n",
      "NotebookApp.iopub_msg_rate_limit=1000.0 (msgs/sec)\n",
      "NotebookApp.rate_limit_window=3.0 (secs)\n",
      "\n"
     ]
    }
   ],
   "source": [
    "def to_basename(x):\n",
    "    x.Path = os.path.basename(x.Path)\n",
    "    \n",
    "    return x\n",
    "\n",
    "def download_images():\n",
    "    dls = filtered[[\"image_url\", \"Path\", \"Style\"]]\n",
    "\n",
    "    dls = filtered.apply(to_basename, axis=1)\n",
    "    \n",
    "    i = 0\n",
    "    handle = display(i, display_id=True)\n",
    "    print('of')\n",
    "    display(dls.shape[0])\n",
    "\n",
    "    for item in dls.itertuples():\n",
    "        i = i + 1\n",
    "        handle.update(i)\n",
    "        download_url(item.image_url, path/\"images\"/item.Path, overwrite=False, show_progress=False)\n",
    "    \n",
    "    return dls\n",
    "        \n",
    "dls = download_images()"
   ]
  },
  {
   "cell_type": "code",
   "execution_count": 14,
   "metadata": {},
   "outputs": [
    {
     "data": {
      "text/html": [
       "<div>\n",
       "<style scoped>\n",
       "    .dataframe tbody tr th:only-of-type {\n",
       "        vertical-align: middle;\n",
       "    }\n",
       "\n",
       "    .dataframe tbody tr th {\n",
       "        vertical-align: top;\n",
       "    }\n",
       "\n",
       "    .dataframe thead th {\n",
       "        text-align: right;\n",
       "    }\n",
       "</style>\n",
       "<table border=\"1\" class=\"dataframe\">\n",
       "  <thead>\n",
       "    <tr style=\"text-align: right;\">\n",
       "      <th></th>\n",
       "      <th>name</th>\n",
       "      <th>label</th>\n",
       "    </tr>\n",
       "  </thead>\n",
       "  <tbody>\n",
       "    <tr>\n",
       "      <th>703568</th>\n",
       "      <td>Silver Wing With Crown 1972.jpg</td>\n",
       "      <td>Minimalism</td>\n",
       "    </tr>\n",
       "    <tr>\n",
       "      <th>686790</th>\n",
       "      <td>The Virgin Appearing To St Ildephonsus And Giv...</td>\n",
       "      <td>Baroque</td>\n",
       "    </tr>\n",
       "    <tr>\n",
       "      <th>651365</th>\n",
       "      <td>The Japanese Bridge 1924.jpg</td>\n",
       "      <td>Impressionism</td>\n",
       "    </tr>\n",
       "    <tr>\n",
       "      <th>708578</th>\n",
       "      <td>Untitled No 59 2002.jpg</td>\n",
       "      <td>Color Field Painting</td>\n",
       "    </tr>\n",
       "    <tr>\n",
       "      <th>729602</th>\n",
       "      <td>Landscape With Oxen 1942.jpg</td>\n",
       "      <td>Expressionism</td>\n",
       "    </tr>\n",
       "    <tr>\n",
       "      <th>...</th>\n",
       "      <td>...</td>\n",
       "      <td>...</td>\n",
       "    </tr>\n",
       "    <tr>\n",
       "      <th>703516</th>\n",
       "      <td>Untitled 1.jpg</td>\n",
       "      <td>Neo-Expressionism</td>\n",
       "    </tr>\n",
       "    <tr>\n",
       "      <th>726305</th>\n",
       "      <td>Gg 10 1991.jpg</td>\n",
       "      <td>Tachisme</td>\n",
       "    </tr>\n",
       "    <tr>\n",
       "      <th>716461</th>\n",
       "      <td>Interferenz Relief 1975.jpg</td>\n",
       "      <td>Op Art</td>\n",
       "    </tr>\n",
       "    <tr>\n",
       "      <th>741735</th>\n",
       "      <td>Lucrezia Bori Pelleas And Melisande.jpg</td>\n",
       "      <td>Art Deco</td>\n",
       "    </tr>\n",
       "    <tr>\n",
       "      <th>739517</th>\n",
       "      <td>Untitled 1976 1.jpg</td>\n",
       "      <td>Concretism</td>\n",
       "    </tr>\n",
       "  </tbody>\n",
       "</table>\n",
       "<p>35354 rows × 2 columns</p>\n",
       "</div>"
      ],
      "text/plain": [
       "                                                     name  \\\n",
       "703568                    Silver Wing With Crown 1972.jpg   \n",
       "686790  The Virgin Appearing To St Ildephonsus And Giv...   \n",
       "651365                       The Japanese Bridge 1924.jpg   \n",
       "708578                            Untitled No 59 2002.jpg   \n",
       "729602                       Landscape With Oxen 1942.jpg   \n",
       "...                                                   ...   \n",
       "703516                                     Untitled 1.jpg   \n",
       "726305                                     Gg 10 1991.jpg   \n",
       "716461                        Interferenz Relief 1975.jpg   \n",
       "741735            Lucrezia Bori Pelleas And Melisande.jpg   \n",
       "739517                                Untitled 1976 1.jpg   \n",
       "\n",
       "                       label  \n",
       "703568            Minimalism  \n",
       "686790               Baroque  \n",
       "651365         Impressionism  \n",
       "708578  Color Field Painting  \n",
       "729602         Expressionism  \n",
       "...                      ...  \n",
       "703516     Neo-Expressionism  \n",
       "726305              Tachisme  \n",
       "716461                Op Art  \n",
       "741735              Art Deco  \n",
       "739517            Concretism  \n",
       "\n",
       "[35354 rows x 2 columns]"
      ]
     },
     "execution_count": 14,
     "metadata": {},
     "output_type": "execute_result"
    }
   ],
   "source": [
    "def create_and_save_label_list():\n",
    "    label_list = dls[[\"Path\", \"Style\"]].rename(columns={\"Path\": \"name\", \"Style\": \"label\"})\n",
    "    label_list.to_csv(path/\"images\"/'labels.csv', index=False)\n",
    "    return label_list\n",
    "\n",
    "label_list = create_and_save_label_list()\n",
    "label_list"
   ]
  },
  {
   "cell_type": "code",
   "execution_count": null,
   "metadata": {},
   "outputs": [],
   "source": []
  }
 ],
 "metadata": {
  "kernelspec": {
   "display_name": "Python 3",
   "language": "python",
   "name": "python3"
  },
  "language_info": {
   "codemirror_mode": {
    "name": "ipython",
    "version": 3
   },
   "file_extension": ".py",
   "mimetype": "text/x-python",
   "name": "python",
   "nbconvert_exporter": "python",
   "pygments_lexer": "ipython3",
   "version": "3.6.9"
  }
 },
 "nbformat": 4,
 "nbformat_minor": 4
}
