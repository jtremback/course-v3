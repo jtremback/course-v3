{
 "cells": [
  {
   "cell_type": "code",
   "execution_count": 1,
   "metadata": {},
   "outputs": [
    {
     "name": "stderr",
     "output_type": "stream",
     "text": [
      "/usr/local/lib/python3.6/site-packages/IPython/core/interactiveshell.py:3242: DtypeWarning: Columns (3,5,6,7,10,12,13,15,17,19,20,21) have mixed types. Specify dtype option on import or set low_memory=False.\n",
      "  if (await self.run_code(code, result,  async_=asy)):\n"
     ]
    }
   ],
   "source": [
    "from fastai.vision import *\n",
    "import time \n",
    "\n",
    "def read_file():\n",
    "    path = Path('../../')\n",
    "    csv = path/\"label_list.csv\"\n",
    "    art = pd.read_csv(csv, sep=\"\\t\")\n",
    "    \n",
    "    return art, path\n",
    "\n",
    "art, path = read_file()"
   ]
  },
  {
   "cell_type": "code",
   "execution_count": 2,
   "metadata": {},
   "outputs": [
    {
     "name": "stdout",
     "output_type": "stream",
     "text": [
      "Style\n",
      "Abstract Art                    1000\n",
      "Abstract Expressionism          1000\n",
      "Academicism                     1000\n",
      "Art Deco                         880\n",
      "Art Informel                    1000\n",
      "Art Nouveau (Modern)            1000\n",
      "Baroque                         1000\n",
      "Color Field Painting            1000\n",
      "Conceptual Art                   984\n",
      "Concretism                       733\n",
      "Contemporary Realism             862\n",
      "Cubism                          1000\n",
      "Early Renaissance               1000\n",
      "Expressionism                   1000\n",
      "Fauvism                          667\n",
      "Hard Edge Painting               534\n",
      "High Renaissance                1000\n",
      "Impressionism                   1000\n",
      "Ink and wash painting            514\n",
      "Lyrical Abstraction              807\n",
      "Magic Realism                   1000\n",
      "Mannerism (Late Renaissance)    1000\n",
      "Minimalism                      1000\n",
      "Naïve Art (Primitivism)         1000\n",
      "Neo-Expressionism                753\n",
      "Neo-Romanticism                  584\n",
      "Neoclassicism                   1000\n",
      "Northern Renaissance            1000\n",
      "Op Art                           965\n",
      "Pointillism                      521\n",
      "Pop Art                         1000\n",
      "Post-Impressionism              1000\n",
      "Realism                         1000\n",
      "Rococo                          1000\n",
      "Romanticism                     1000\n",
      "Surrealism                      1000\n",
      "Symbolism                       1000\n",
      "Tachisme                         550\n",
      "Ukiyo-e                         1000\n",
      "Name: Style, dtype: int64\n"
     ]
    },
    {
     "data": {
      "text/plain": [
       "703568    https://uploads6.wikiart.org/images/gianni-pia...\n",
       "686790    https://uploads7.wikiart.org/images/diego-vela...\n",
       "651365    https://uploads8.wikiart.org/images/claude-mon...\n",
       "708578    https://uploads4.wikiart.org/images/claude-via...\n",
       "729602    https://uploads3.wikiart.org/images/balthus/la...\n",
       "                                ...                        \n",
       "703516    https://uploads5.wikiart.org/images/antonio-pa...\n",
       "726305    https://uploads6.wikiart.org/images/emil-schum...\n",
       "716461    https://uploads8.wikiart.org/images/ludwig-wil...\n",
       "741735    https://uploads2.wikiart.org/images/erte/lucre...\n",
       "739517    https://uploads0.wikiart.org/images/marcelle-c...\n",
       "Name: image_url, Length: 35354, dtype: object"
      ]
     },
     "execution_count": 2,
     "metadata": {},
     "output_type": "execute_result"
    }
   ],
   "source": [
    "def filter_art():\n",
    "    filtered = art.groupby(\"Style\").filter(lambda x: x['Style'].count() > 500)\n",
    "    filtered = filtered.sample(frac=1, random_state=42).groupby(\"Style\").head(1000)\n",
    "    filtered = filtered[filtered[\"Style\"] != \"Arita ware\"]\n",
    "    filtered = filtered[filtered[\"Style\"] != \"Sawankhalok ware\"]\n",
    "    return filtered\n",
    "\n",
    "filtered = filter_art()\n",
    "print(filtered.groupby(\"Style\")['Style'].count())\n",
    "filtered[\"image_url\"]"
   ]
  },
  {
   "cell_type": "code",
   "execution_count": 3,
   "metadata": {},
   "outputs": [
    {
     "data": {
      "text/plain": [
       "35354"
      ]
     },
     "metadata": {},
     "output_type": "display_data"
    },
    {
     "name": "stdout",
     "output_type": "stream",
     "text": [
      "of\n"
     ]
    },
    {
     "data": {
      "text/plain": [
       "35354"
      ]
     },
     "metadata": {},
     "output_type": "display_data"
    },
    {
     "name": "stderr",
     "output_type": "stream",
     "text": [
      "IOPub message rate exceeded.\n",
      "The notebook server will temporarily stop sending output\n",
      "to the client in order to avoid crashing it.\n",
      "To change this limit, set the config variable\n",
      "`--NotebookApp.iopub_msg_rate_limit`.\n",
      "\n",
      "Current values:\n",
      "NotebookApp.iopub_msg_rate_limit=1000.0 (msgs/sec)\n",
      "NotebookApp.rate_limit_window=3.0 (secs)\n",
      "\n",
      "IOPub message rate exceeded.\n",
      "The notebook server will temporarily stop sending output\n",
      "to the client in order to avoid crashing it.\n",
      "To change this limit, set the config variable\n",
      "`--NotebookApp.iopub_msg_rate_limit`.\n",
      "\n",
      "Current values:\n",
      "NotebookApp.iopub_msg_rate_limit=1000.0 (msgs/sec)\n",
      "NotebookApp.rate_limit_window=3.0 (secs)\n",
      "\n"
     ]
    }
   ],
   "source": [
    "filtered = filtered[[\"image_url\", \"Path\", \"Style\"]]\n",
    "\n",
    "i = 0\n",
    "handle = display(i, display_id=True)\n",
    "print('of')\n",
    "display(filtered.shape[0])\n",
    "\n",
    "for item in filtered.itertuples():\n",
    "    i = i + 1\n",
    "    handle.update(i)\n",
    "    download_url(item.image_url, path/\"images\"/os.path.basename(item.Path), overwrite=False, show_progress=False)\n"
   ]
  },
  {
   "cell_type": "code",
   "execution_count": null,
   "metadata": {},
   "outputs": [],
   "source": []
  }
 ],
 "metadata": {
  "kernelspec": {
   "display_name": "Python 3",
   "language": "python",
   "name": "python3"
  },
  "language_info": {
   "codemirror_mode": {
    "name": "ipython",
    "version": 3
   },
   "file_extension": ".py",
   "mimetype": "text/x-python",
   "name": "python",
   "nbconvert_exporter": "python",
   "pygments_lexer": "ipython3",
   "version": "3.6.9"
  }
 },
 "nbformat": 4,
 "nbformat_minor": 4
}
